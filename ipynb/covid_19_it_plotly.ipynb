{
 "cells": [
  {
   "cell_type": "code",
   "execution_count": 7,
   "metadata": {},
   "outputs": [],
   "source": [
    "import pandas as pd\n",
    "\n",
    "import plotly.express as px\n",
    "\n",
    "\n",
    "def plot_COVID(region: str, *args):\n",
    "    \"\"\"\n",
    "    args is a tuple of column names to be plotted\n",
    "    e.g\n",
    "    plot_COVID(\"Piemonte\",'totale_casi','deceduti')\n",
    "    will plot the overall daily results for 'totale_casi','deceduti' in Piemonte\n",
    "    \n",
    "    Additional columns 'nuovi_casi', 'decessi_giorno', 'ricoveri_ICU_giorno' have been introduced.\n",
    "    Daily data use dashed lines. Cumulative data use continuous lines.\n",
    "    'Alto Adige' combines P.A. Bolzano and P.A. Trento.\n",
    "    \"\"\"\n",
    "\n",
    "# The keys of the dictionary 'col' are the vailable columns (strings). The values are the colors for plotting \n",
    "    col={'ricoverati_con_sintomi':'C8',\n",
    "         'nuovi_ricoverati_con_sintomi':'C8',\n",
    "         'terapia_intensiva':'red',\n",
    "         'nuovi_terapia_intensiva':'red',\n",
    "         'totale_ospedalizzati':'C2',\n",
    "         'isolamento_domiciliare':'C1',\n",
    "         'totale_attualmente_positivi':'C4',\n",
    "         'nuovi_attualmente_positivi':'C5',\n",
    "         'dimessi_guariti':'green',\n",
    "         'nuovi_dimessi_guariti':'green',\n",
    "         'deceduti':'C0',\n",
    "         'nuovi_deceduti':'C0',\n",
    "         'tamponi':'C6',\n",
    "         'nuovi_tamponi':'C6',\n",
    "         'totale_casi':'0',\n",
    "         'nuovi_casi':'0'}\n",
    "    \n",
    "# Load the data from the official repository. Notice that you need to download the file in 'raw' format non in html.\n",
    "# The output is a pandas Dataframe.\n",
    "    if region=='Italia':\n",
    "        TotalByDate=pd.read_csv(\"https://raw.githubusercontent.com/pcm-dpc/COVID-19/master/dati-andamento-nazionale/dpc-covid19-ita-andamento-nazionale.csv\")\n",
    "    else:\n",
    "        TotalByDate=pd.read_csv(\"https://raw.githubusercontent.com/pcm-dpc/COVID-19/master/dati-regioni/dpc-covid19-ita-regioni.csv\")\n",
    "        if region=='Alto Adige':\n",
    "# Dataframe for 'Alto Adige' is the sum of 'P.A. Bolzano' and 'P.A. Trento'\n",
    "            TotalByDate1=TotalByDate.loc[lambda df: df['denominazione_regione']=='P.A. Bolzano',:]\n",
    "            TotalByDate2=TotalByDate.loc[lambda df: df['denominazione_regione']=='P.A. Trento',:]\n",
    "            TotalByDate=TotalByDate1.add(TotalByDate1)\n",
    "            TotalByDate['denominazione_regione']=['Alto Adige' for i in range(len(TotalByDate))]\n",
    "            TotalByDate['data']=TotalByDate1['data']\n",
    "        else:\n",
    "            TotalByDate=TotalByDate.loc[lambda df: df['denominazione_regione']==region,:]\n",
    "# fix indices to be [0,1,.........,len(TotalByDate)-1]\n",
    "        TotalByDate['entry']=list(range(len(TotalByDate)))\n",
    "        TotalByDate.set_index('entry',inplace=True)\n",
    "\n",
    "# Drop some unused columns\n",
    "    TotalByDate=TotalByDate.drop(columns=['stato','note_it','note_en'])\n",
    "\n",
    "# Add columns 'nuovi_casi', 'nuovi_decessi_giorno', 'nuovi_terapia_intensiva',\n",
    "#             'nuovi_dimessi_guariti'\n",
    "    daily=['nuovi_casi','nuovi_deceduti','nuovi_terapia_intensiva','nuovi_dimessi_guariti',\n",
    "          'nuovi_tamponi','nuovi_ricoverati_con_sintomi']\n",
    "    TotalByDate['nuovi_casi']=[0]+[TotalByDate['totale_casi'][i]-TotalByDate['totale_casi'][i-1] for i in range(1,len(TotalByDate))]\n",
    "    TotalByDate['nuovi_deceduti']=[0]+[TotalByDate['deceduti'][i]-TotalByDate['deceduti'][i-1] for i in range(1,len(TotalByDate))]\n",
    "    TotalByDate['nuovi_terapia_intensiva']=[0]+[TotalByDate['terapia_intensiva'][i]-TotalByDate['terapia_intensiva'][i-1] for i in range(1,len(TotalByDate))]\n",
    "    TotalByDate['nuovi_dimessi_guariti']=[0]+[TotalByDate['dimessi_guariti'][i]-TotalByDate['dimessi_guariti'][i-1] for i in range(1,len(TotalByDate))]\n",
    "    TotalByDate['nuovi_tamponi']=[0]+[TotalByDate['tamponi'][i]-TotalByDate['tamponi'][i-1] for i in range(1,len(TotalByDate))]\n",
    "    TotalByDate['nuovi_ricoverati_con_sintomi']=[0]+[TotalByDate['ricoverati_con_sintomi'][i]\n",
    "                                                     -TotalByDate['ricoverati_con_sintomi'][i-1] for i in range(1,len(TotalByDate))]\n",
    "\n",
    "# Format dates\n",
    "    xx=list(TotalByDate['data'])\n",
    "    xx=[d[5:10].replace('02-','Feb ').replace('03-','Mar ')  for d in xx]\n",
    "    TotalByDate['data']=xx\n",
    "\n",
    "# Set and Format title\n",
    "    my_title=region+\" \"+xx[0]+\"-\"+xx[-1]\n",
    "\n",
    "# Transform dataframe in a form compatible with plotly.express\n",
    "    tidy_df = TotalByDate.melt(id_vars='data',value_vars=args)\n",
    "\n",
    "# Create the figure object\n",
    "    fig = px.line(tidy_df, x='data', y=\"value\", color=\"variable\",\n",
    "                 title=my_title,\n",
    "                 log_y=True,\n",
    "                 width=700,height=800,\n",
    "                 hover_data=[\"data\",\"variable\"],\n",
    "                 )\n",
    "\n",
    "    fig.update_xaxes( # the x-axis labels are rotated\n",
    "        tickangle=50\n",
    "    )\n",
    "\n",
    "    fig.update_layout( # customize font and legend orientation & position\n",
    "        font_family=\"Rockwell\",\n",
    "        legend=dict(\n",
    "        title=None, orientation=\"h\", y=1, yanchor=\"bottom\", x=0.5, xanchor=\"center\"\n",
    "        ),\n",
    "        title=dict(  x=0.5, xanchor=\"center\", font_size=30),\n",
    "        xaxis_title=\"\",\n",
    "        yaxis_title=\"numero di casi\",\n",
    "#        font=dict(\n",
    "#            family=\"Courier New, monospace\",\n",
    "#            size=18,\n",
    "#            color=\"#7f7f7f\"\n",
    "#        ),\n",
    "    )\n",
    "\n",
    "\n",
    "    fig.show()\n",
    "    fig.write_image('test.webp')\n",
    "\n",
    "    return\n",
    "    \n",
    "    \n",
    "def plot_COVID_all(*args):\n",
    "    regions=['Italia','Abruzzo','Alto Adige','Basilicata','Calabria','Campania','Emilia Romagna','Friuli Venezia Giulia',\n",
    "            'Lazio','Liguria','Lombardia','Marche','Molise','Piemonte','Puglia','Sardegna','Sicilia',\n",
    "            'Toscana','Umbria','Valle d\\'Aosta','Veneto']\n",
    "    \n",
    "    for region in regions:\n",
    "        print('region:',region)\n",
    "        plot_COVID(region,*args)\n",
    "    \n",
    "    return\n",
    " "
   ]
  },
  {
   "cell_type": "code",
   "execution_count": 10,
   "metadata": {},
   "outputs": [
    {
     "data": {
      "application/vnd.plotly.v1+json": {
       "config": {
        "plotlyServerURL": "https://plot.ly"
       },
       "data": [
        {
         "customdata": [
          [
           "Feb 24",
           "totale_casi"
          ],
          [
           "Feb 25",
           "totale_casi"
          ],
          [
           "Feb 26",
           "totale_casi"
          ],
          [
           "Feb 27",
           "totale_casi"
          ],
          [
           "Feb 28",
           "totale_casi"
          ],
          [
           "Feb 29",
           "totale_casi"
          ],
          [
           "Mar 01",
           "totale_casi"
          ],
          [
           "Mar 02",
           "totale_casi"
          ],
          [
           "Mar 03",
           "totale_casi"
          ],
          [
           "Mar 04",
           "totale_casi"
          ],
          [
           "Mar 05",
           "totale_casi"
          ],
          [
           "Mar 06",
           "totale_casi"
          ],
          [
           "Mar 07",
           "totale_casi"
          ],
          [
           "Mar 08",
           "totale_casi"
          ],
          [
           "Mar 09",
           "totale_casi"
          ],
          [
           "Mar 10",
           "totale_casi"
          ],
          [
           "Mar 11",
           "totale_casi"
          ],
          [
           "Mar 12",
           "totale_casi"
          ],
          [
           "Mar 13",
           "totale_casi"
          ],
          [
           "Mar 14",
           "totale_casi"
          ],
          [
           "Mar 15",
           "totale_casi"
          ],
          [
           "Mar 16",
           "totale_casi"
          ],
          [
           "Mar 17",
           "totale_casi"
          ],
          [
           "Mar 18",
           "totale_casi"
          ],
          [
           "Mar 19",
           "totale_casi"
          ],
          [
           "Mar 20",
           "totale_casi"
          ],
          [
           "Mar 21",
           "totale_casi"
          ],
          [
           "Mar 22",
           "totale_casi"
          ],
          [
           "Mar 23",
           "totale_casi"
          ],
          [
           "Mar 24",
           "totale_casi"
          ],
          [
           "Mar 25",
           "totale_casi"
          ],
          [
           "Mar 26",
           "totale_casi"
          ],
          [
           "Mar 27",
           "totale_casi"
          ],
          [
           "Mar 28",
           "totale_casi"
          ],
          [
           "Mar 29",
           "totale_casi"
          ]
         ],
         "hoverlabel": {
          "namelength": 0
         },
         "hovertemplate": "variable=%{customdata[1]}<br>data=%{customdata[0]}<br>value=%{y}",
         "legendgroup": "totale_casi",
         "line": {
          "color": "#636efa",
          "dash": "solid"
         },
         "mode": "lines",
         "name": "totale_casi",
         "showlegend": true,
         "type": "scatter",
         "x": [
          "Feb 24",
          "Feb 25",
          "Feb 26",
          "Feb 27",
          "Feb 28",
          "Feb 29",
          "Mar 01",
          "Mar 02",
          "Mar 03",
          "Mar 04",
          "Mar 05",
          "Mar 06",
          "Mar 07",
          "Mar 08",
          "Mar 09",
          "Mar 10",
          "Mar 11",
          "Mar 12",
          "Mar 13",
          "Mar 14",
          "Mar 15",
          "Mar 16",
          "Mar 17",
          "Mar 18",
          "Mar 19",
          "Mar 20",
          "Mar 21",
          "Mar 22",
          "Mar 23",
          "Mar 24",
          "Mar 25",
          "Mar 26",
          "Mar 27",
          "Mar 28",
          "Mar 29"
         ],
         "xaxis": "x",
         "y": [
          229,
          322,
          400,
          650,
          888,
          1128,
          1694,
          2036,
          2502,
          3089,
          3858,
          4636,
          5883,
          7375,
          9172,
          10149,
          12462,
          15113,
          17660,
          21157,
          24747,
          27980,
          31506,
          35713,
          41035,
          47021,
          53578,
          59138,
          63927,
          69176,
          74386,
          80539,
          86498,
          92472,
          97689
         ],
         "yaxis": "y"
        },
        {
         "customdata": [
          [
           "Feb 24",
           "nuovi_casi"
          ],
          [
           "Feb 25",
           "nuovi_casi"
          ],
          [
           "Feb 26",
           "nuovi_casi"
          ],
          [
           "Feb 27",
           "nuovi_casi"
          ],
          [
           "Feb 28",
           "nuovi_casi"
          ],
          [
           "Feb 29",
           "nuovi_casi"
          ],
          [
           "Mar 01",
           "nuovi_casi"
          ],
          [
           "Mar 02",
           "nuovi_casi"
          ],
          [
           "Mar 03",
           "nuovi_casi"
          ],
          [
           "Mar 04",
           "nuovi_casi"
          ],
          [
           "Mar 05",
           "nuovi_casi"
          ],
          [
           "Mar 06",
           "nuovi_casi"
          ],
          [
           "Mar 07",
           "nuovi_casi"
          ],
          [
           "Mar 08",
           "nuovi_casi"
          ],
          [
           "Mar 09",
           "nuovi_casi"
          ],
          [
           "Mar 10",
           "nuovi_casi"
          ],
          [
           "Mar 11",
           "nuovi_casi"
          ],
          [
           "Mar 12",
           "nuovi_casi"
          ],
          [
           "Mar 13",
           "nuovi_casi"
          ],
          [
           "Mar 14",
           "nuovi_casi"
          ],
          [
           "Mar 15",
           "nuovi_casi"
          ],
          [
           "Mar 16",
           "nuovi_casi"
          ],
          [
           "Mar 17",
           "nuovi_casi"
          ],
          [
           "Mar 18",
           "nuovi_casi"
          ],
          [
           "Mar 19",
           "nuovi_casi"
          ],
          [
           "Mar 20",
           "nuovi_casi"
          ],
          [
           "Mar 21",
           "nuovi_casi"
          ],
          [
           "Mar 22",
           "nuovi_casi"
          ],
          [
           "Mar 23",
           "nuovi_casi"
          ],
          [
           "Mar 24",
           "nuovi_casi"
          ],
          [
           "Mar 25",
           "nuovi_casi"
          ],
          [
           "Mar 26",
           "nuovi_casi"
          ],
          [
           "Mar 27",
           "nuovi_casi"
          ],
          [
           "Mar 28",
           "nuovi_casi"
          ],
          [
           "Mar 29",
           "nuovi_casi"
          ]
         ],
         "hoverlabel": {
          "namelength": 0
         },
         "hovertemplate": "variable=%{customdata[1]}<br>data=%{customdata[0]}<br>value=%{y}",
         "legendgroup": "nuovi_casi",
         "line": {
          "color": "#EF553B",
          "dash": "solid"
         },
         "mode": "lines",
         "name": "nuovi_casi",
         "showlegend": true,
         "type": "scatter",
         "x": [
          "Feb 24",
          "Feb 25",
          "Feb 26",
          "Feb 27",
          "Feb 28",
          "Feb 29",
          "Mar 01",
          "Mar 02",
          "Mar 03",
          "Mar 04",
          "Mar 05",
          "Mar 06",
          "Mar 07",
          "Mar 08",
          "Mar 09",
          "Mar 10",
          "Mar 11",
          "Mar 12",
          "Mar 13",
          "Mar 14",
          "Mar 15",
          "Mar 16",
          "Mar 17",
          "Mar 18",
          "Mar 19",
          "Mar 20",
          "Mar 21",
          "Mar 22",
          "Mar 23",
          "Mar 24",
          "Mar 25",
          "Mar 26",
          "Mar 27",
          "Mar 28",
          "Mar 29"
         ],
         "xaxis": "x",
         "y": [
          0,
          93,
          78,
          250,
          238,
          240,
          566,
          342,
          466,
          587,
          769,
          778,
          1247,
          1492,
          1797,
          977,
          2313,
          2651,
          2547,
          3497,
          3590,
          3233,
          3526,
          4207,
          5322,
          5986,
          6557,
          5560,
          4789,
          5249,
          5210,
          6153,
          5959,
          5974,
          5217
         ],
         "yaxis": "y"
        },
        {
         "customdata": [
          [
           "Feb 24",
           "terapia_intensiva"
          ],
          [
           "Feb 25",
           "terapia_intensiva"
          ],
          [
           "Feb 26",
           "terapia_intensiva"
          ],
          [
           "Feb 27",
           "terapia_intensiva"
          ],
          [
           "Feb 28",
           "terapia_intensiva"
          ],
          [
           "Feb 29",
           "terapia_intensiva"
          ],
          [
           "Mar 01",
           "terapia_intensiva"
          ],
          [
           "Mar 02",
           "terapia_intensiva"
          ],
          [
           "Mar 03",
           "terapia_intensiva"
          ],
          [
           "Mar 04",
           "terapia_intensiva"
          ],
          [
           "Mar 05",
           "terapia_intensiva"
          ],
          [
           "Mar 06",
           "terapia_intensiva"
          ],
          [
           "Mar 07",
           "terapia_intensiva"
          ],
          [
           "Mar 08",
           "terapia_intensiva"
          ],
          [
           "Mar 09",
           "terapia_intensiva"
          ],
          [
           "Mar 10",
           "terapia_intensiva"
          ],
          [
           "Mar 11",
           "terapia_intensiva"
          ],
          [
           "Mar 12",
           "terapia_intensiva"
          ],
          [
           "Mar 13",
           "terapia_intensiva"
          ],
          [
           "Mar 14",
           "terapia_intensiva"
          ],
          [
           "Mar 15",
           "terapia_intensiva"
          ],
          [
           "Mar 16",
           "terapia_intensiva"
          ],
          [
           "Mar 17",
           "terapia_intensiva"
          ],
          [
           "Mar 18",
           "terapia_intensiva"
          ],
          [
           "Mar 19",
           "terapia_intensiva"
          ],
          [
           "Mar 20",
           "terapia_intensiva"
          ],
          [
           "Mar 21",
           "terapia_intensiva"
          ],
          [
           "Mar 22",
           "terapia_intensiva"
          ],
          [
           "Mar 23",
           "terapia_intensiva"
          ],
          [
           "Mar 24",
           "terapia_intensiva"
          ],
          [
           "Mar 25",
           "terapia_intensiva"
          ],
          [
           "Mar 26",
           "terapia_intensiva"
          ],
          [
           "Mar 27",
           "terapia_intensiva"
          ],
          [
           "Mar 28",
           "terapia_intensiva"
          ],
          [
           "Mar 29",
           "terapia_intensiva"
          ]
         ],
         "hoverlabel": {
          "namelength": 0
         },
         "hovertemplate": "variable=%{customdata[1]}<br>data=%{customdata[0]}<br>value=%{y}",
         "legendgroup": "terapia_intensiva",
         "line": {
          "color": "#00cc96",
          "dash": "solid"
         },
         "mode": "lines",
         "name": "terapia_intensiva",
         "showlegend": true,
         "type": "scatter",
         "x": [
          "Feb 24",
          "Feb 25",
          "Feb 26",
          "Feb 27",
          "Feb 28",
          "Feb 29",
          "Mar 01",
          "Mar 02",
          "Mar 03",
          "Mar 04",
          "Mar 05",
          "Mar 06",
          "Mar 07",
          "Mar 08",
          "Mar 09",
          "Mar 10",
          "Mar 11",
          "Mar 12",
          "Mar 13",
          "Mar 14",
          "Mar 15",
          "Mar 16",
          "Mar 17",
          "Mar 18",
          "Mar 19",
          "Mar 20",
          "Mar 21",
          "Mar 22",
          "Mar 23",
          "Mar 24",
          "Mar 25",
          "Mar 26",
          "Mar 27",
          "Mar 28",
          "Mar 29"
         ],
         "xaxis": "x",
         "y": [
          26,
          35,
          36,
          56,
          64,
          105,
          140,
          166,
          229,
          295,
          351,
          462,
          567,
          650,
          733,
          877,
          1028,
          1153,
          1328,
          1518,
          1672,
          1851,
          2060,
          2257,
          2498,
          2655,
          2857,
          3009,
          3204,
          3396,
          3489,
          3612,
          3732,
          3856,
          3906
         ],
         "yaxis": "y"
        },
        {
         "customdata": [
          [
           "Feb 24",
           "nuovi_terapia_intensiva"
          ],
          [
           "Feb 25",
           "nuovi_terapia_intensiva"
          ],
          [
           "Feb 26",
           "nuovi_terapia_intensiva"
          ],
          [
           "Feb 27",
           "nuovi_terapia_intensiva"
          ],
          [
           "Feb 28",
           "nuovi_terapia_intensiva"
          ],
          [
           "Feb 29",
           "nuovi_terapia_intensiva"
          ],
          [
           "Mar 01",
           "nuovi_terapia_intensiva"
          ],
          [
           "Mar 02",
           "nuovi_terapia_intensiva"
          ],
          [
           "Mar 03",
           "nuovi_terapia_intensiva"
          ],
          [
           "Mar 04",
           "nuovi_terapia_intensiva"
          ],
          [
           "Mar 05",
           "nuovi_terapia_intensiva"
          ],
          [
           "Mar 06",
           "nuovi_terapia_intensiva"
          ],
          [
           "Mar 07",
           "nuovi_terapia_intensiva"
          ],
          [
           "Mar 08",
           "nuovi_terapia_intensiva"
          ],
          [
           "Mar 09",
           "nuovi_terapia_intensiva"
          ],
          [
           "Mar 10",
           "nuovi_terapia_intensiva"
          ],
          [
           "Mar 11",
           "nuovi_terapia_intensiva"
          ],
          [
           "Mar 12",
           "nuovi_terapia_intensiva"
          ],
          [
           "Mar 13",
           "nuovi_terapia_intensiva"
          ],
          [
           "Mar 14",
           "nuovi_terapia_intensiva"
          ],
          [
           "Mar 15",
           "nuovi_terapia_intensiva"
          ],
          [
           "Mar 16",
           "nuovi_terapia_intensiva"
          ],
          [
           "Mar 17",
           "nuovi_terapia_intensiva"
          ],
          [
           "Mar 18",
           "nuovi_terapia_intensiva"
          ],
          [
           "Mar 19",
           "nuovi_terapia_intensiva"
          ],
          [
           "Mar 20",
           "nuovi_terapia_intensiva"
          ],
          [
           "Mar 21",
           "nuovi_terapia_intensiva"
          ],
          [
           "Mar 22",
           "nuovi_terapia_intensiva"
          ],
          [
           "Mar 23",
           "nuovi_terapia_intensiva"
          ],
          [
           "Mar 24",
           "nuovi_terapia_intensiva"
          ],
          [
           "Mar 25",
           "nuovi_terapia_intensiva"
          ],
          [
           "Mar 26",
           "nuovi_terapia_intensiva"
          ],
          [
           "Mar 27",
           "nuovi_terapia_intensiva"
          ],
          [
           "Mar 28",
           "nuovi_terapia_intensiva"
          ],
          [
           "Mar 29",
           "nuovi_terapia_intensiva"
          ]
         ],
         "hoverlabel": {
          "namelength": 0
         },
         "hovertemplate": "variable=%{customdata[1]}<br>data=%{customdata[0]}<br>value=%{y}",
         "legendgroup": "nuovi_terapia_intensiva",
         "line": {
          "color": "#ab63fa",
          "dash": "solid"
         },
         "mode": "lines",
         "name": "nuovi_terapia_intensiva",
         "showlegend": true,
         "type": "scatter",
         "x": [
          "Feb 24",
          "Feb 25",
          "Feb 26",
          "Feb 27",
          "Feb 28",
          "Feb 29",
          "Mar 01",
          "Mar 02",
          "Mar 03",
          "Mar 04",
          "Mar 05",
          "Mar 06",
          "Mar 07",
          "Mar 08",
          "Mar 09",
          "Mar 10",
          "Mar 11",
          "Mar 12",
          "Mar 13",
          "Mar 14",
          "Mar 15",
          "Mar 16",
          "Mar 17",
          "Mar 18",
          "Mar 19",
          "Mar 20",
          "Mar 21",
          "Mar 22",
          "Mar 23",
          "Mar 24",
          "Mar 25",
          "Mar 26",
          "Mar 27",
          "Mar 28",
          "Mar 29"
         ],
         "xaxis": "x",
         "y": [
          0,
          9,
          1,
          20,
          8,
          41,
          35,
          26,
          63,
          66,
          56,
          111,
          105,
          83,
          83,
          144,
          151,
          125,
          175,
          190,
          154,
          179,
          209,
          197,
          241,
          157,
          202,
          152,
          195,
          192,
          93,
          123,
          120,
          124,
          50
         ],
         "yaxis": "y"
        },
        {
         "customdata": [
          [
           "Feb 24",
           "deceduti"
          ],
          [
           "Feb 25",
           "deceduti"
          ],
          [
           "Feb 26",
           "deceduti"
          ],
          [
           "Feb 27",
           "deceduti"
          ],
          [
           "Feb 28",
           "deceduti"
          ],
          [
           "Feb 29",
           "deceduti"
          ],
          [
           "Mar 01",
           "deceduti"
          ],
          [
           "Mar 02",
           "deceduti"
          ],
          [
           "Mar 03",
           "deceduti"
          ],
          [
           "Mar 04",
           "deceduti"
          ],
          [
           "Mar 05",
           "deceduti"
          ],
          [
           "Mar 06",
           "deceduti"
          ],
          [
           "Mar 07",
           "deceduti"
          ],
          [
           "Mar 08",
           "deceduti"
          ],
          [
           "Mar 09",
           "deceduti"
          ],
          [
           "Mar 10",
           "deceduti"
          ],
          [
           "Mar 11",
           "deceduti"
          ],
          [
           "Mar 12",
           "deceduti"
          ],
          [
           "Mar 13",
           "deceduti"
          ],
          [
           "Mar 14",
           "deceduti"
          ],
          [
           "Mar 15",
           "deceduti"
          ],
          [
           "Mar 16",
           "deceduti"
          ],
          [
           "Mar 17",
           "deceduti"
          ],
          [
           "Mar 18",
           "deceduti"
          ],
          [
           "Mar 19",
           "deceduti"
          ],
          [
           "Mar 20",
           "deceduti"
          ],
          [
           "Mar 21",
           "deceduti"
          ],
          [
           "Mar 22",
           "deceduti"
          ],
          [
           "Mar 23",
           "deceduti"
          ],
          [
           "Mar 24",
           "deceduti"
          ],
          [
           "Mar 25",
           "deceduti"
          ],
          [
           "Mar 26",
           "deceduti"
          ],
          [
           "Mar 27",
           "deceduti"
          ],
          [
           "Mar 28",
           "deceduti"
          ],
          [
           "Mar 29",
           "deceduti"
          ]
         ],
         "hoverlabel": {
          "namelength": 0
         },
         "hovertemplate": "variable=%{customdata[1]}<br>data=%{customdata[0]}<br>value=%{y}",
         "legendgroup": "deceduti",
         "line": {
          "color": "#FFA15A",
          "dash": "solid"
         },
         "mode": "lines",
         "name": "deceduti",
         "showlegend": true,
         "type": "scatter",
         "x": [
          "Feb 24",
          "Feb 25",
          "Feb 26",
          "Feb 27",
          "Feb 28",
          "Feb 29",
          "Mar 01",
          "Mar 02",
          "Mar 03",
          "Mar 04",
          "Mar 05",
          "Mar 06",
          "Mar 07",
          "Mar 08",
          "Mar 09",
          "Mar 10",
          "Mar 11",
          "Mar 12",
          "Mar 13",
          "Mar 14",
          "Mar 15",
          "Mar 16",
          "Mar 17",
          "Mar 18",
          "Mar 19",
          "Mar 20",
          "Mar 21",
          "Mar 22",
          "Mar 23",
          "Mar 24",
          "Mar 25",
          "Mar 26",
          "Mar 27",
          "Mar 28",
          "Mar 29"
         ],
         "xaxis": "x",
         "y": [
          7,
          10,
          12,
          17,
          21,
          29,
          34,
          52,
          79,
          107,
          148,
          197,
          233,
          366,
          463,
          631,
          827,
          1016,
          1266,
          1441,
          1809,
          2158,
          2503,
          2978,
          3405,
          4032,
          4825,
          5476,
          6077,
          6820,
          7503,
          8165,
          9134,
          10023,
          10779
         ],
         "yaxis": "y"
        },
        {
         "customdata": [
          [
           "Feb 24",
           "nuovi_deceduti"
          ],
          [
           "Feb 25",
           "nuovi_deceduti"
          ],
          [
           "Feb 26",
           "nuovi_deceduti"
          ],
          [
           "Feb 27",
           "nuovi_deceduti"
          ],
          [
           "Feb 28",
           "nuovi_deceduti"
          ],
          [
           "Feb 29",
           "nuovi_deceduti"
          ],
          [
           "Mar 01",
           "nuovi_deceduti"
          ],
          [
           "Mar 02",
           "nuovi_deceduti"
          ],
          [
           "Mar 03",
           "nuovi_deceduti"
          ],
          [
           "Mar 04",
           "nuovi_deceduti"
          ],
          [
           "Mar 05",
           "nuovi_deceduti"
          ],
          [
           "Mar 06",
           "nuovi_deceduti"
          ],
          [
           "Mar 07",
           "nuovi_deceduti"
          ],
          [
           "Mar 08",
           "nuovi_deceduti"
          ],
          [
           "Mar 09",
           "nuovi_deceduti"
          ],
          [
           "Mar 10",
           "nuovi_deceduti"
          ],
          [
           "Mar 11",
           "nuovi_deceduti"
          ],
          [
           "Mar 12",
           "nuovi_deceduti"
          ],
          [
           "Mar 13",
           "nuovi_deceduti"
          ],
          [
           "Mar 14",
           "nuovi_deceduti"
          ],
          [
           "Mar 15",
           "nuovi_deceduti"
          ],
          [
           "Mar 16",
           "nuovi_deceduti"
          ],
          [
           "Mar 17",
           "nuovi_deceduti"
          ],
          [
           "Mar 18",
           "nuovi_deceduti"
          ],
          [
           "Mar 19",
           "nuovi_deceduti"
          ],
          [
           "Mar 20",
           "nuovi_deceduti"
          ],
          [
           "Mar 21",
           "nuovi_deceduti"
          ],
          [
           "Mar 22",
           "nuovi_deceduti"
          ],
          [
           "Mar 23",
           "nuovi_deceduti"
          ],
          [
           "Mar 24",
           "nuovi_deceduti"
          ],
          [
           "Mar 25",
           "nuovi_deceduti"
          ],
          [
           "Mar 26",
           "nuovi_deceduti"
          ],
          [
           "Mar 27",
           "nuovi_deceduti"
          ],
          [
           "Mar 28",
           "nuovi_deceduti"
          ],
          [
           "Mar 29",
           "nuovi_deceduti"
          ]
         ],
         "hoverlabel": {
          "namelength": 0
         },
         "hovertemplate": "variable=%{customdata[1]}<br>data=%{customdata[0]}<br>value=%{y}",
         "legendgroup": "nuovi_deceduti",
         "line": {
          "color": "#19d3f3",
          "dash": "solid"
         },
         "mode": "lines",
         "name": "nuovi_deceduti",
         "showlegend": true,
         "type": "scatter",
         "x": [
          "Feb 24",
          "Feb 25",
          "Feb 26",
          "Feb 27",
          "Feb 28",
          "Feb 29",
          "Mar 01",
          "Mar 02",
          "Mar 03",
          "Mar 04",
          "Mar 05",
          "Mar 06",
          "Mar 07",
          "Mar 08",
          "Mar 09",
          "Mar 10",
          "Mar 11",
          "Mar 12",
          "Mar 13",
          "Mar 14",
          "Mar 15",
          "Mar 16",
          "Mar 17",
          "Mar 18",
          "Mar 19",
          "Mar 20",
          "Mar 21",
          "Mar 22",
          "Mar 23",
          "Mar 24",
          "Mar 25",
          "Mar 26",
          "Mar 27",
          "Mar 28",
          "Mar 29"
         ],
         "xaxis": "x",
         "y": [
          0,
          3,
          2,
          5,
          4,
          8,
          5,
          18,
          27,
          28,
          41,
          49,
          36,
          133,
          97,
          168,
          196,
          189,
          250,
          175,
          368,
          349,
          345,
          475,
          427,
          627,
          793,
          651,
          601,
          743,
          683,
          662,
          969,
          889,
          756
         ],
         "yaxis": "y"
        },
        {
         "customdata": [
          [
           "Feb 24",
           "tamponi"
          ],
          [
           "Feb 25",
           "tamponi"
          ],
          [
           "Feb 26",
           "tamponi"
          ],
          [
           "Feb 27",
           "tamponi"
          ],
          [
           "Feb 28",
           "tamponi"
          ],
          [
           "Feb 29",
           "tamponi"
          ],
          [
           "Mar 01",
           "tamponi"
          ],
          [
           "Mar 02",
           "tamponi"
          ],
          [
           "Mar 03",
           "tamponi"
          ],
          [
           "Mar 04",
           "tamponi"
          ],
          [
           "Mar 05",
           "tamponi"
          ],
          [
           "Mar 06",
           "tamponi"
          ],
          [
           "Mar 07",
           "tamponi"
          ],
          [
           "Mar 08",
           "tamponi"
          ],
          [
           "Mar 09",
           "tamponi"
          ],
          [
           "Mar 10",
           "tamponi"
          ],
          [
           "Mar 11",
           "tamponi"
          ],
          [
           "Mar 12",
           "tamponi"
          ],
          [
           "Mar 13",
           "tamponi"
          ],
          [
           "Mar 14",
           "tamponi"
          ],
          [
           "Mar 15",
           "tamponi"
          ],
          [
           "Mar 16",
           "tamponi"
          ],
          [
           "Mar 17",
           "tamponi"
          ],
          [
           "Mar 18",
           "tamponi"
          ],
          [
           "Mar 19",
           "tamponi"
          ],
          [
           "Mar 20",
           "tamponi"
          ],
          [
           "Mar 21",
           "tamponi"
          ],
          [
           "Mar 22",
           "tamponi"
          ],
          [
           "Mar 23",
           "tamponi"
          ],
          [
           "Mar 24",
           "tamponi"
          ],
          [
           "Mar 25",
           "tamponi"
          ],
          [
           "Mar 26",
           "tamponi"
          ],
          [
           "Mar 27",
           "tamponi"
          ],
          [
           "Mar 28",
           "tamponi"
          ],
          [
           "Mar 29",
           "tamponi"
          ]
         ],
         "hoverlabel": {
          "namelength": 0
         },
         "hovertemplate": "variable=%{customdata[1]}<br>data=%{customdata[0]}<br>value=%{y}",
         "legendgroup": "tamponi",
         "line": {
          "color": "#FF6692",
          "dash": "solid"
         },
         "mode": "lines",
         "name": "tamponi",
         "showlegend": true,
         "type": "scatter",
         "x": [
          "Feb 24",
          "Feb 25",
          "Feb 26",
          "Feb 27",
          "Feb 28",
          "Feb 29",
          "Mar 01",
          "Mar 02",
          "Mar 03",
          "Mar 04",
          "Mar 05",
          "Mar 06",
          "Mar 07",
          "Mar 08",
          "Mar 09",
          "Mar 10",
          "Mar 11",
          "Mar 12",
          "Mar 13",
          "Mar 14",
          "Mar 15",
          "Mar 16",
          "Mar 17",
          "Mar 18",
          "Mar 19",
          "Mar 20",
          "Mar 21",
          "Mar 22",
          "Mar 23",
          "Mar 24",
          "Mar 25",
          "Mar 26",
          "Mar 27",
          "Mar 28",
          "Mar 29"
         ],
         "xaxis": "x",
         "y": [
          4324,
          8623,
          9587,
          12014,
          15695,
          18661,
          21127,
          23345,
          25856,
          29837,
          32362,
          36359,
          42062,
          49937,
          53826,
          60761,
          73154,
          86011,
          97488,
          109170,
          124899,
          137962,
          148657,
          165541,
          182777,
          206886,
          233222,
          258402,
          275468,
          296964,
          324445,
          361060,
          394079,
          429526,
          454030
         ],
         "yaxis": "y"
        }
       ],
       "layout": {
        "font": {
         "family": "Rockwell"
        },
        "height": 800,
        "legend": {
         "orientation": "h",
         "title": {},
         "tracegroupgap": 0,
         "x": 0.5,
         "xanchor": "center",
         "y": 1,
         "yanchor": "bottom"
        },
        "template": {
         "data": {
          "bar": [
           {
            "error_x": {
             "color": "#2a3f5f"
            },
            "error_y": {
             "color": "#2a3f5f"
            },
            "marker": {
             "line": {
              "color": "#E5ECF6",
              "width": 0.5
             }
            },
            "type": "bar"
           }
          ],
          "barpolar": [
           {
            "marker": {
             "line": {
              "color": "#E5ECF6",
              "width": 0.5
             }
            },
            "type": "barpolar"
           }
          ],
          "carpet": [
           {
            "aaxis": {
             "endlinecolor": "#2a3f5f",
             "gridcolor": "white",
             "linecolor": "white",
             "minorgridcolor": "white",
             "startlinecolor": "#2a3f5f"
            },
            "baxis": {
             "endlinecolor": "#2a3f5f",
             "gridcolor": "white",
             "linecolor": "white",
             "minorgridcolor": "white",
             "startlinecolor": "#2a3f5f"
            },
            "type": "carpet"
           }
          ],
          "choropleth": [
           {
            "colorbar": {
             "outlinewidth": 0,
             "ticks": ""
            },
            "type": "choropleth"
           }
          ],
          "contour": [
           {
            "colorbar": {
             "outlinewidth": 0,
             "ticks": ""
            },
            "colorscale": [
             [
              0,
              "#0d0887"
             ],
             [
              0.1111111111111111,
              "#46039f"
             ],
             [
              0.2222222222222222,
              "#7201a8"
             ],
             [
              0.3333333333333333,
              "#9c179e"
             ],
             [
              0.4444444444444444,
              "#bd3786"
             ],
             [
              0.5555555555555556,
              "#d8576b"
             ],
             [
              0.6666666666666666,
              "#ed7953"
             ],
             [
              0.7777777777777778,
              "#fb9f3a"
             ],
             [
              0.8888888888888888,
              "#fdca26"
             ],
             [
              1,
              "#f0f921"
             ]
            ],
            "type": "contour"
           }
          ],
          "contourcarpet": [
           {
            "colorbar": {
             "outlinewidth": 0,
             "ticks": ""
            },
            "type": "contourcarpet"
           }
          ],
          "heatmap": [
           {
            "colorbar": {
             "outlinewidth": 0,
             "ticks": ""
            },
            "colorscale": [
             [
              0,
              "#0d0887"
             ],
             [
              0.1111111111111111,
              "#46039f"
             ],
             [
              0.2222222222222222,
              "#7201a8"
             ],
             [
              0.3333333333333333,
              "#9c179e"
             ],
             [
              0.4444444444444444,
              "#bd3786"
             ],
             [
              0.5555555555555556,
              "#d8576b"
             ],
             [
              0.6666666666666666,
              "#ed7953"
             ],
             [
              0.7777777777777778,
              "#fb9f3a"
             ],
             [
              0.8888888888888888,
              "#fdca26"
             ],
             [
              1,
              "#f0f921"
             ]
            ],
            "type": "heatmap"
           }
          ],
          "heatmapgl": [
           {
            "colorbar": {
             "outlinewidth": 0,
             "ticks": ""
            },
            "colorscale": [
             [
              0,
              "#0d0887"
             ],
             [
              0.1111111111111111,
              "#46039f"
             ],
             [
              0.2222222222222222,
              "#7201a8"
             ],
             [
              0.3333333333333333,
              "#9c179e"
             ],
             [
              0.4444444444444444,
              "#bd3786"
             ],
             [
              0.5555555555555556,
              "#d8576b"
             ],
             [
              0.6666666666666666,
              "#ed7953"
             ],
             [
              0.7777777777777778,
              "#fb9f3a"
             ],
             [
              0.8888888888888888,
              "#fdca26"
             ],
             [
              1,
              "#f0f921"
             ]
            ],
            "type": "heatmapgl"
           }
          ],
          "histogram": [
           {
            "marker": {
             "colorbar": {
              "outlinewidth": 0,
              "ticks": ""
             }
            },
            "type": "histogram"
           }
          ],
          "histogram2d": [
           {
            "colorbar": {
             "outlinewidth": 0,
             "ticks": ""
            },
            "colorscale": [
             [
              0,
              "#0d0887"
             ],
             [
              0.1111111111111111,
              "#46039f"
             ],
             [
              0.2222222222222222,
              "#7201a8"
             ],
             [
              0.3333333333333333,
              "#9c179e"
             ],
             [
              0.4444444444444444,
              "#bd3786"
             ],
             [
              0.5555555555555556,
              "#d8576b"
             ],
             [
              0.6666666666666666,
              "#ed7953"
             ],
             [
              0.7777777777777778,
              "#fb9f3a"
             ],
             [
              0.8888888888888888,
              "#fdca26"
             ],
             [
              1,
              "#f0f921"
             ]
            ],
            "type": "histogram2d"
           }
          ],
          "histogram2dcontour": [
           {
            "colorbar": {
             "outlinewidth": 0,
             "ticks": ""
            },
            "colorscale": [
             [
              0,
              "#0d0887"
             ],
             [
              0.1111111111111111,
              "#46039f"
             ],
             [
              0.2222222222222222,
              "#7201a8"
             ],
             [
              0.3333333333333333,
              "#9c179e"
             ],
             [
              0.4444444444444444,
              "#bd3786"
             ],
             [
              0.5555555555555556,
              "#d8576b"
             ],
             [
              0.6666666666666666,
              "#ed7953"
             ],
             [
              0.7777777777777778,
              "#fb9f3a"
             ],
             [
              0.8888888888888888,
              "#fdca26"
             ],
             [
              1,
              "#f0f921"
             ]
            ],
            "type": "histogram2dcontour"
           }
          ],
          "mesh3d": [
           {
            "colorbar": {
             "outlinewidth": 0,
             "ticks": ""
            },
            "type": "mesh3d"
           }
          ],
          "parcoords": [
           {
            "line": {
             "colorbar": {
              "outlinewidth": 0,
              "ticks": ""
             }
            },
            "type": "parcoords"
           }
          ],
          "pie": [
           {
            "automargin": true,
            "type": "pie"
           }
          ],
          "scatter": [
           {
            "marker": {
             "colorbar": {
              "outlinewidth": 0,
              "ticks": ""
             }
            },
            "type": "scatter"
           }
          ],
          "scatter3d": [
           {
            "line": {
             "colorbar": {
              "outlinewidth": 0,
              "ticks": ""
             }
            },
            "marker": {
             "colorbar": {
              "outlinewidth": 0,
              "ticks": ""
             }
            },
            "type": "scatter3d"
           }
          ],
          "scattercarpet": [
           {
            "marker": {
             "colorbar": {
              "outlinewidth": 0,
              "ticks": ""
             }
            },
            "type": "scattercarpet"
           }
          ],
          "scattergeo": [
           {
            "marker": {
             "colorbar": {
              "outlinewidth": 0,
              "ticks": ""
             }
            },
            "type": "scattergeo"
           }
          ],
          "scattergl": [
           {
            "marker": {
             "colorbar": {
              "outlinewidth": 0,
              "ticks": ""
             }
            },
            "type": "scattergl"
           }
          ],
          "scattermapbox": [
           {
            "marker": {
             "colorbar": {
              "outlinewidth": 0,
              "ticks": ""
             }
            },
            "type": "scattermapbox"
           }
          ],
          "scatterpolar": [
           {
            "marker": {
             "colorbar": {
              "outlinewidth": 0,
              "ticks": ""
             }
            },
            "type": "scatterpolar"
           }
          ],
          "scatterpolargl": [
           {
            "marker": {
             "colorbar": {
              "outlinewidth": 0,
              "ticks": ""
             }
            },
            "type": "scatterpolargl"
           }
          ],
          "scatterternary": [
           {
            "marker": {
             "colorbar": {
              "outlinewidth": 0,
              "ticks": ""
             }
            },
            "type": "scatterternary"
           }
          ],
          "surface": [
           {
            "colorbar": {
             "outlinewidth": 0,
             "ticks": ""
            },
            "colorscale": [
             [
              0,
              "#0d0887"
             ],
             [
              0.1111111111111111,
              "#46039f"
             ],
             [
              0.2222222222222222,
              "#7201a8"
             ],
             [
              0.3333333333333333,
              "#9c179e"
             ],
             [
              0.4444444444444444,
              "#bd3786"
             ],
             [
              0.5555555555555556,
              "#d8576b"
             ],
             [
              0.6666666666666666,
              "#ed7953"
             ],
             [
              0.7777777777777778,
              "#fb9f3a"
             ],
             [
              0.8888888888888888,
              "#fdca26"
             ],
             [
              1,
              "#f0f921"
             ]
            ],
            "type": "surface"
           }
          ],
          "table": [
           {
            "cells": {
             "fill": {
              "color": "#EBF0F8"
             },
             "line": {
              "color": "white"
             }
            },
            "header": {
             "fill": {
              "color": "#C8D4E3"
             },
             "line": {
              "color": "white"
             }
            },
            "type": "table"
           }
          ]
         },
         "layout": {
          "annotationdefaults": {
           "arrowcolor": "#2a3f5f",
           "arrowhead": 0,
           "arrowwidth": 1
          },
          "coloraxis": {
           "colorbar": {
            "outlinewidth": 0,
            "ticks": ""
           }
          },
          "colorscale": {
           "diverging": [
            [
             0,
             "#8e0152"
            ],
            [
             0.1,
             "#c51b7d"
            ],
            [
             0.2,
             "#de77ae"
            ],
            [
             0.3,
             "#f1b6da"
            ],
            [
             0.4,
             "#fde0ef"
            ],
            [
             0.5,
             "#f7f7f7"
            ],
            [
             0.6,
             "#e6f5d0"
            ],
            [
             0.7,
             "#b8e186"
            ],
            [
             0.8,
             "#7fbc41"
            ],
            [
             0.9,
             "#4d9221"
            ],
            [
             1,
             "#276419"
            ]
           ],
           "sequential": [
            [
             0,
             "#0d0887"
            ],
            [
             0.1111111111111111,
             "#46039f"
            ],
            [
             0.2222222222222222,
             "#7201a8"
            ],
            [
             0.3333333333333333,
             "#9c179e"
            ],
            [
             0.4444444444444444,
             "#bd3786"
            ],
            [
             0.5555555555555556,
             "#d8576b"
            ],
            [
             0.6666666666666666,
             "#ed7953"
            ],
            [
             0.7777777777777778,
             "#fb9f3a"
            ],
            [
             0.8888888888888888,
             "#fdca26"
            ],
            [
             1,
             "#f0f921"
            ]
           ],
           "sequentialminus": [
            [
             0,
             "#0d0887"
            ],
            [
             0.1111111111111111,
             "#46039f"
            ],
            [
             0.2222222222222222,
             "#7201a8"
            ],
            [
             0.3333333333333333,
             "#9c179e"
            ],
            [
             0.4444444444444444,
             "#bd3786"
            ],
            [
             0.5555555555555556,
             "#d8576b"
            ],
            [
             0.6666666666666666,
             "#ed7953"
            ],
            [
             0.7777777777777778,
             "#fb9f3a"
            ],
            [
             0.8888888888888888,
             "#fdca26"
            ],
            [
             1,
             "#f0f921"
            ]
           ]
          },
          "colorway": [
           "#636efa",
           "#EF553B",
           "#00cc96",
           "#ab63fa",
           "#FFA15A",
           "#19d3f3",
           "#FF6692",
           "#B6E880",
           "#FF97FF",
           "#FECB52"
          ],
          "font": {
           "color": "#2a3f5f"
          },
          "geo": {
           "bgcolor": "white",
           "lakecolor": "white",
           "landcolor": "#E5ECF6",
           "showlakes": true,
           "showland": true,
           "subunitcolor": "white"
          },
          "hoverlabel": {
           "align": "left"
          },
          "hovermode": "closest",
          "mapbox": {
           "style": "light"
          },
          "paper_bgcolor": "white",
          "plot_bgcolor": "#E5ECF6",
          "polar": {
           "angularaxis": {
            "gridcolor": "white",
            "linecolor": "white",
            "ticks": ""
           },
           "bgcolor": "#E5ECF6",
           "radialaxis": {
            "gridcolor": "white",
            "linecolor": "white",
            "ticks": ""
           }
          },
          "scene": {
           "xaxis": {
            "backgroundcolor": "#E5ECF6",
            "gridcolor": "white",
            "gridwidth": 2,
            "linecolor": "white",
            "showbackground": true,
            "ticks": "",
            "zerolinecolor": "white"
           },
           "yaxis": {
            "backgroundcolor": "#E5ECF6",
            "gridcolor": "white",
            "gridwidth": 2,
            "linecolor": "white",
            "showbackground": true,
            "ticks": "",
            "zerolinecolor": "white"
           },
           "zaxis": {
            "backgroundcolor": "#E5ECF6",
            "gridcolor": "white",
            "gridwidth": 2,
            "linecolor": "white",
            "showbackground": true,
            "ticks": "",
            "zerolinecolor": "white"
           }
          },
          "shapedefaults": {
           "line": {
            "color": "#2a3f5f"
           }
          },
          "ternary": {
           "aaxis": {
            "gridcolor": "white",
            "linecolor": "white",
            "ticks": ""
           },
           "baxis": {
            "gridcolor": "white",
            "linecolor": "white",
            "ticks": ""
           },
           "bgcolor": "#E5ECF6",
           "caxis": {
            "gridcolor": "white",
            "linecolor": "white",
            "ticks": ""
           }
          },
          "title": {
           "x": 0.05
          },
          "xaxis": {
           "automargin": true,
           "gridcolor": "white",
           "linecolor": "white",
           "ticks": "",
           "title": {
            "standoff": 15
           },
           "zerolinecolor": "white",
           "zerolinewidth": 2
          },
          "yaxis": {
           "automargin": true,
           "gridcolor": "white",
           "linecolor": "white",
           "ticks": "",
           "title": {
            "standoff": 15
           },
           "zerolinecolor": "white",
           "zerolinewidth": 2
          }
         }
        },
        "title": {
         "font": {
          "size": 30
         },
         "text": "Italia Feb 24-Mar 29",
         "x": 0.5,
         "xanchor": "center"
        },
        "width": 700,
        "xaxis": {
         "anchor": "y",
         "domain": [
          0,
          1
         ],
         "tickangle": 50,
         "title": {
          "text": ""
         }
        },
        "yaxis": {
         "anchor": "x",
         "domain": [
          0,
          1
         ],
         "title": {
          "text": "numero di casi"
         },
         "type": "log"
        }
       }
      },
      "text/html": [
       "<div>\n",
       "        \n",
       "        \n",
       "            <div id=\"79a833c5-8607-459c-8090-46651a9dfb03\" class=\"plotly-graph-div\" style=\"height:800px; width:700px;\"></div>\n",
       "            <script type=\"text/javascript\">\n",
       "                require([\"plotly\"], function(Plotly) {\n",
       "                    window.PLOTLYENV=window.PLOTLYENV || {};\n",
       "                    \n",
       "                if (document.getElementById(\"79a833c5-8607-459c-8090-46651a9dfb03\")) {\n",
       "                    Plotly.newPlot(\n",
       "                        '79a833c5-8607-459c-8090-46651a9dfb03',\n",
       "                        [{\"customdata\": [[\"Feb 24\", \"totale_casi\"], [\"Feb 25\", \"totale_casi\"], [\"Feb 26\", \"totale_casi\"], [\"Feb 27\", \"totale_casi\"], [\"Feb 28\", \"totale_casi\"], [\"Feb 29\", \"totale_casi\"], [\"Mar 01\", \"totale_casi\"], [\"Mar 02\", \"totale_casi\"], [\"Mar 03\", \"totale_casi\"], [\"Mar 04\", \"totale_casi\"], [\"Mar 05\", \"totale_casi\"], [\"Mar 06\", \"totale_casi\"], [\"Mar 07\", \"totale_casi\"], [\"Mar 08\", \"totale_casi\"], [\"Mar 09\", \"totale_casi\"], [\"Mar 10\", \"totale_casi\"], [\"Mar 11\", \"totale_casi\"], [\"Mar 12\", \"totale_casi\"], [\"Mar 13\", \"totale_casi\"], [\"Mar 14\", \"totale_casi\"], [\"Mar 15\", \"totale_casi\"], [\"Mar 16\", \"totale_casi\"], [\"Mar 17\", \"totale_casi\"], [\"Mar 18\", \"totale_casi\"], [\"Mar 19\", \"totale_casi\"], [\"Mar 20\", \"totale_casi\"], [\"Mar 21\", \"totale_casi\"], [\"Mar 22\", \"totale_casi\"], [\"Mar 23\", \"totale_casi\"], [\"Mar 24\", \"totale_casi\"], [\"Mar 25\", \"totale_casi\"], [\"Mar 26\", \"totale_casi\"], [\"Mar 27\", \"totale_casi\"], [\"Mar 28\", \"totale_casi\"], [\"Mar 29\", \"totale_casi\"]], \"hoverlabel\": {\"namelength\": 0}, \"hovertemplate\": \"variable=%{customdata[1]}<br>data=%{customdata[0]}<br>value=%{y}\", \"legendgroup\": \"totale_casi\", \"line\": {\"color\": \"#636efa\", \"dash\": \"solid\"}, \"mode\": \"lines\", \"name\": \"totale_casi\", \"showlegend\": true, \"type\": \"scatter\", \"x\": [\"Feb 24\", \"Feb 25\", \"Feb 26\", \"Feb 27\", \"Feb 28\", \"Feb 29\", \"Mar 01\", \"Mar 02\", \"Mar 03\", \"Mar 04\", \"Mar 05\", \"Mar 06\", \"Mar 07\", \"Mar 08\", \"Mar 09\", \"Mar 10\", \"Mar 11\", \"Mar 12\", \"Mar 13\", \"Mar 14\", \"Mar 15\", \"Mar 16\", \"Mar 17\", \"Mar 18\", \"Mar 19\", \"Mar 20\", \"Mar 21\", \"Mar 22\", \"Mar 23\", \"Mar 24\", \"Mar 25\", \"Mar 26\", \"Mar 27\", \"Mar 28\", \"Mar 29\"], \"xaxis\": \"x\", \"y\": [229, 322, 400, 650, 888, 1128, 1694, 2036, 2502, 3089, 3858, 4636, 5883, 7375, 9172, 10149, 12462, 15113, 17660, 21157, 24747, 27980, 31506, 35713, 41035, 47021, 53578, 59138, 63927, 69176, 74386, 80539, 86498, 92472, 97689], \"yaxis\": \"y\"}, {\"customdata\": [[\"Feb 24\", \"nuovi_casi\"], [\"Feb 25\", \"nuovi_casi\"], [\"Feb 26\", \"nuovi_casi\"], [\"Feb 27\", \"nuovi_casi\"], [\"Feb 28\", \"nuovi_casi\"], [\"Feb 29\", \"nuovi_casi\"], [\"Mar 01\", \"nuovi_casi\"], [\"Mar 02\", \"nuovi_casi\"], [\"Mar 03\", \"nuovi_casi\"], [\"Mar 04\", \"nuovi_casi\"], [\"Mar 05\", \"nuovi_casi\"], [\"Mar 06\", \"nuovi_casi\"], [\"Mar 07\", \"nuovi_casi\"], [\"Mar 08\", \"nuovi_casi\"], [\"Mar 09\", \"nuovi_casi\"], [\"Mar 10\", \"nuovi_casi\"], [\"Mar 11\", \"nuovi_casi\"], [\"Mar 12\", \"nuovi_casi\"], [\"Mar 13\", \"nuovi_casi\"], [\"Mar 14\", \"nuovi_casi\"], [\"Mar 15\", \"nuovi_casi\"], [\"Mar 16\", \"nuovi_casi\"], [\"Mar 17\", \"nuovi_casi\"], [\"Mar 18\", \"nuovi_casi\"], [\"Mar 19\", \"nuovi_casi\"], [\"Mar 20\", \"nuovi_casi\"], [\"Mar 21\", \"nuovi_casi\"], [\"Mar 22\", \"nuovi_casi\"], [\"Mar 23\", \"nuovi_casi\"], [\"Mar 24\", \"nuovi_casi\"], [\"Mar 25\", \"nuovi_casi\"], [\"Mar 26\", \"nuovi_casi\"], [\"Mar 27\", \"nuovi_casi\"], [\"Mar 28\", \"nuovi_casi\"], [\"Mar 29\", \"nuovi_casi\"]], \"hoverlabel\": {\"namelength\": 0}, \"hovertemplate\": \"variable=%{customdata[1]}<br>data=%{customdata[0]}<br>value=%{y}\", \"legendgroup\": \"nuovi_casi\", \"line\": {\"color\": \"#EF553B\", \"dash\": \"solid\"}, \"mode\": \"lines\", \"name\": \"nuovi_casi\", \"showlegend\": true, \"type\": \"scatter\", \"x\": [\"Feb 24\", \"Feb 25\", \"Feb 26\", \"Feb 27\", \"Feb 28\", \"Feb 29\", \"Mar 01\", \"Mar 02\", \"Mar 03\", \"Mar 04\", \"Mar 05\", \"Mar 06\", \"Mar 07\", \"Mar 08\", \"Mar 09\", \"Mar 10\", \"Mar 11\", \"Mar 12\", \"Mar 13\", \"Mar 14\", \"Mar 15\", \"Mar 16\", \"Mar 17\", \"Mar 18\", \"Mar 19\", \"Mar 20\", \"Mar 21\", \"Mar 22\", \"Mar 23\", \"Mar 24\", \"Mar 25\", \"Mar 26\", \"Mar 27\", \"Mar 28\", \"Mar 29\"], \"xaxis\": \"x\", \"y\": [0, 93, 78, 250, 238, 240, 566, 342, 466, 587, 769, 778, 1247, 1492, 1797, 977, 2313, 2651, 2547, 3497, 3590, 3233, 3526, 4207, 5322, 5986, 6557, 5560, 4789, 5249, 5210, 6153, 5959, 5974, 5217], \"yaxis\": \"y\"}, {\"customdata\": [[\"Feb 24\", \"terapia_intensiva\"], [\"Feb 25\", \"terapia_intensiva\"], [\"Feb 26\", \"terapia_intensiva\"], [\"Feb 27\", \"terapia_intensiva\"], [\"Feb 28\", \"terapia_intensiva\"], [\"Feb 29\", \"terapia_intensiva\"], [\"Mar 01\", \"terapia_intensiva\"], [\"Mar 02\", \"terapia_intensiva\"], [\"Mar 03\", \"terapia_intensiva\"], [\"Mar 04\", \"terapia_intensiva\"], [\"Mar 05\", \"terapia_intensiva\"], [\"Mar 06\", \"terapia_intensiva\"], [\"Mar 07\", \"terapia_intensiva\"], [\"Mar 08\", \"terapia_intensiva\"], [\"Mar 09\", \"terapia_intensiva\"], [\"Mar 10\", \"terapia_intensiva\"], [\"Mar 11\", \"terapia_intensiva\"], [\"Mar 12\", \"terapia_intensiva\"], [\"Mar 13\", \"terapia_intensiva\"], [\"Mar 14\", \"terapia_intensiva\"], [\"Mar 15\", \"terapia_intensiva\"], [\"Mar 16\", \"terapia_intensiva\"], [\"Mar 17\", \"terapia_intensiva\"], [\"Mar 18\", \"terapia_intensiva\"], [\"Mar 19\", \"terapia_intensiva\"], [\"Mar 20\", \"terapia_intensiva\"], [\"Mar 21\", \"terapia_intensiva\"], [\"Mar 22\", \"terapia_intensiva\"], [\"Mar 23\", \"terapia_intensiva\"], [\"Mar 24\", \"terapia_intensiva\"], [\"Mar 25\", \"terapia_intensiva\"], [\"Mar 26\", \"terapia_intensiva\"], [\"Mar 27\", \"terapia_intensiva\"], [\"Mar 28\", \"terapia_intensiva\"], [\"Mar 29\", \"terapia_intensiva\"]], \"hoverlabel\": {\"namelength\": 0}, \"hovertemplate\": \"variable=%{customdata[1]}<br>data=%{customdata[0]}<br>value=%{y}\", \"legendgroup\": \"terapia_intensiva\", \"line\": {\"color\": \"#00cc96\", \"dash\": \"solid\"}, \"mode\": \"lines\", \"name\": \"terapia_intensiva\", \"showlegend\": true, \"type\": \"scatter\", \"x\": [\"Feb 24\", \"Feb 25\", \"Feb 26\", \"Feb 27\", \"Feb 28\", \"Feb 29\", \"Mar 01\", \"Mar 02\", \"Mar 03\", \"Mar 04\", \"Mar 05\", \"Mar 06\", \"Mar 07\", \"Mar 08\", \"Mar 09\", \"Mar 10\", \"Mar 11\", \"Mar 12\", \"Mar 13\", \"Mar 14\", \"Mar 15\", \"Mar 16\", \"Mar 17\", \"Mar 18\", \"Mar 19\", \"Mar 20\", \"Mar 21\", \"Mar 22\", \"Mar 23\", \"Mar 24\", \"Mar 25\", \"Mar 26\", \"Mar 27\", \"Mar 28\", \"Mar 29\"], \"xaxis\": \"x\", \"y\": [26, 35, 36, 56, 64, 105, 140, 166, 229, 295, 351, 462, 567, 650, 733, 877, 1028, 1153, 1328, 1518, 1672, 1851, 2060, 2257, 2498, 2655, 2857, 3009, 3204, 3396, 3489, 3612, 3732, 3856, 3906], \"yaxis\": \"y\"}, {\"customdata\": [[\"Feb 24\", \"nuovi_terapia_intensiva\"], [\"Feb 25\", \"nuovi_terapia_intensiva\"], [\"Feb 26\", \"nuovi_terapia_intensiva\"], [\"Feb 27\", \"nuovi_terapia_intensiva\"], [\"Feb 28\", \"nuovi_terapia_intensiva\"], [\"Feb 29\", \"nuovi_terapia_intensiva\"], [\"Mar 01\", \"nuovi_terapia_intensiva\"], [\"Mar 02\", \"nuovi_terapia_intensiva\"], [\"Mar 03\", \"nuovi_terapia_intensiva\"], [\"Mar 04\", \"nuovi_terapia_intensiva\"], [\"Mar 05\", \"nuovi_terapia_intensiva\"], [\"Mar 06\", \"nuovi_terapia_intensiva\"], [\"Mar 07\", \"nuovi_terapia_intensiva\"], [\"Mar 08\", \"nuovi_terapia_intensiva\"], [\"Mar 09\", \"nuovi_terapia_intensiva\"], [\"Mar 10\", \"nuovi_terapia_intensiva\"], [\"Mar 11\", \"nuovi_terapia_intensiva\"], [\"Mar 12\", \"nuovi_terapia_intensiva\"], [\"Mar 13\", \"nuovi_terapia_intensiva\"], [\"Mar 14\", \"nuovi_terapia_intensiva\"], [\"Mar 15\", \"nuovi_terapia_intensiva\"], [\"Mar 16\", \"nuovi_terapia_intensiva\"], [\"Mar 17\", \"nuovi_terapia_intensiva\"], [\"Mar 18\", \"nuovi_terapia_intensiva\"], [\"Mar 19\", \"nuovi_terapia_intensiva\"], [\"Mar 20\", \"nuovi_terapia_intensiva\"], [\"Mar 21\", \"nuovi_terapia_intensiva\"], [\"Mar 22\", \"nuovi_terapia_intensiva\"], [\"Mar 23\", \"nuovi_terapia_intensiva\"], [\"Mar 24\", \"nuovi_terapia_intensiva\"], [\"Mar 25\", \"nuovi_terapia_intensiva\"], [\"Mar 26\", \"nuovi_terapia_intensiva\"], [\"Mar 27\", \"nuovi_terapia_intensiva\"], [\"Mar 28\", \"nuovi_terapia_intensiva\"], [\"Mar 29\", \"nuovi_terapia_intensiva\"]], \"hoverlabel\": {\"namelength\": 0}, \"hovertemplate\": \"variable=%{customdata[1]}<br>data=%{customdata[0]}<br>value=%{y}\", \"legendgroup\": \"nuovi_terapia_intensiva\", \"line\": {\"color\": \"#ab63fa\", \"dash\": \"solid\"}, \"mode\": \"lines\", \"name\": \"nuovi_terapia_intensiva\", \"showlegend\": true, \"type\": \"scatter\", \"x\": [\"Feb 24\", \"Feb 25\", \"Feb 26\", \"Feb 27\", \"Feb 28\", \"Feb 29\", \"Mar 01\", \"Mar 02\", \"Mar 03\", \"Mar 04\", \"Mar 05\", \"Mar 06\", \"Mar 07\", \"Mar 08\", \"Mar 09\", \"Mar 10\", \"Mar 11\", \"Mar 12\", \"Mar 13\", \"Mar 14\", \"Mar 15\", \"Mar 16\", \"Mar 17\", \"Mar 18\", \"Mar 19\", \"Mar 20\", \"Mar 21\", \"Mar 22\", \"Mar 23\", \"Mar 24\", \"Mar 25\", \"Mar 26\", \"Mar 27\", \"Mar 28\", \"Mar 29\"], \"xaxis\": \"x\", \"y\": [0, 9, 1, 20, 8, 41, 35, 26, 63, 66, 56, 111, 105, 83, 83, 144, 151, 125, 175, 190, 154, 179, 209, 197, 241, 157, 202, 152, 195, 192, 93, 123, 120, 124, 50], \"yaxis\": \"y\"}, {\"customdata\": [[\"Feb 24\", \"deceduti\"], [\"Feb 25\", \"deceduti\"], [\"Feb 26\", \"deceduti\"], [\"Feb 27\", \"deceduti\"], [\"Feb 28\", \"deceduti\"], [\"Feb 29\", \"deceduti\"], [\"Mar 01\", \"deceduti\"], [\"Mar 02\", \"deceduti\"], [\"Mar 03\", \"deceduti\"], [\"Mar 04\", \"deceduti\"], [\"Mar 05\", \"deceduti\"], [\"Mar 06\", \"deceduti\"], [\"Mar 07\", \"deceduti\"], [\"Mar 08\", \"deceduti\"], [\"Mar 09\", \"deceduti\"], [\"Mar 10\", \"deceduti\"], [\"Mar 11\", \"deceduti\"], [\"Mar 12\", \"deceduti\"], [\"Mar 13\", \"deceduti\"], [\"Mar 14\", \"deceduti\"], [\"Mar 15\", \"deceduti\"], [\"Mar 16\", \"deceduti\"], [\"Mar 17\", \"deceduti\"], [\"Mar 18\", \"deceduti\"], [\"Mar 19\", \"deceduti\"], [\"Mar 20\", \"deceduti\"], [\"Mar 21\", \"deceduti\"], [\"Mar 22\", \"deceduti\"], [\"Mar 23\", \"deceduti\"], [\"Mar 24\", \"deceduti\"], [\"Mar 25\", \"deceduti\"], [\"Mar 26\", \"deceduti\"], [\"Mar 27\", \"deceduti\"], [\"Mar 28\", \"deceduti\"], [\"Mar 29\", \"deceduti\"]], \"hoverlabel\": {\"namelength\": 0}, \"hovertemplate\": \"variable=%{customdata[1]}<br>data=%{customdata[0]}<br>value=%{y}\", \"legendgroup\": \"deceduti\", \"line\": {\"color\": \"#FFA15A\", \"dash\": \"solid\"}, \"mode\": \"lines\", \"name\": \"deceduti\", \"showlegend\": true, \"type\": \"scatter\", \"x\": [\"Feb 24\", \"Feb 25\", \"Feb 26\", \"Feb 27\", \"Feb 28\", \"Feb 29\", \"Mar 01\", \"Mar 02\", \"Mar 03\", \"Mar 04\", \"Mar 05\", \"Mar 06\", \"Mar 07\", \"Mar 08\", \"Mar 09\", \"Mar 10\", \"Mar 11\", \"Mar 12\", \"Mar 13\", \"Mar 14\", \"Mar 15\", \"Mar 16\", \"Mar 17\", \"Mar 18\", \"Mar 19\", \"Mar 20\", \"Mar 21\", \"Mar 22\", \"Mar 23\", \"Mar 24\", \"Mar 25\", \"Mar 26\", \"Mar 27\", \"Mar 28\", \"Mar 29\"], \"xaxis\": \"x\", \"y\": [7, 10, 12, 17, 21, 29, 34, 52, 79, 107, 148, 197, 233, 366, 463, 631, 827, 1016, 1266, 1441, 1809, 2158, 2503, 2978, 3405, 4032, 4825, 5476, 6077, 6820, 7503, 8165, 9134, 10023, 10779], \"yaxis\": \"y\"}, {\"customdata\": [[\"Feb 24\", \"nuovi_deceduti\"], [\"Feb 25\", \"nuovi_deceduti\"], [\"Feb 26\", \"nuovi_deceduti\"], [\"Feb 27\", \"nuovi_deceduti\"], [\"Feb 28\", \"nuovi_deceduti\"], [\"Feb 29\", \"nuovi_deceduti\"], [\"Mar 01\", \"nuovi_deceduti\"], [\"Mar 02\", \"nuovi_deceduti\"], [\"Mar 03\", \"nuovi_deceduti\"], [\"Mar 04\", \"nuovi_deceduti\"], [\"Mar 05\", \"nuovi_deceduti\"], [\"Mar 06\", \"nuovi_deceduti\"], [\"Mar 07\", \"nuovi_deceduti\"], [\"Mar 08\", \"nuovi_deceduti\"], [\"Mar 09\", \"nuovi_deceduti\"], [\"Mar 10\", \"nuovi_deceduti\"], [\"Mar 11\", \"nuovi_deceduti\"], [\"Mar 12\", \"nuovi_deceduti\"], [\"Mar 13\", \"nuovi_deceduti\"], [\"Mar 14\", \"nuovi_deceduti\"], [\"Mar 15\", \"nuovi_deceduti\"], [\"Mar 16\", \"nuovi_deceduti\"], [\"Mar 17\", \"nuovi_deceduti\"], [\"Mar 18\", \"nuovi_deceduti\"], [\"Mar 19\", \"nuovi_deceduti\"], [\"Mar 20\", \"nuovi_deceduti\"], [\"Mar 21\", \"nuovi_deceduti\"], [\"Mar 22\", \"nuovi_deceduti\"], [\"Mar 23\", \"nuovi_deceduti\"], [\"Mar 24\", \"nuovi_deceduti\"], [\"Mar 25\", \"nuovi_deceduti\"], [\"Mar 26\", \"nuovi_deceduti\"], [\"Mar 27\", \"nuovi_deceduti\"], [\"Mar 28\", \"nuovi_deceduti\"], [\"Mar 29\", \"nuovi_deceduti\"]], \"hoverlabel\": {\"namelength\": 0}, \"hovertemplate\": \"variable=%{customdata[1]}<br>data=%{customdata[0]}<br>value=%{y}\", \"legendgroup\": \"nuovi_deceduti\", \"line\": {\"color\": \"#19d3f3\", \"dash\": \"solid\"}, \"mode\": \"lines\", \"name\": \"nuovi_deceduti\", \"showlegend\": true, \"type\": \"scatter\", \"x\": [\"Feb 24\", \"Feb 25\", \"Feb 26\", \"Feb 27\", \"Feb 28\", \"Feb 29\", \"Mar 01\", \"Mar 02\", \"Mar 03\", \"Mar 04\", \"Mar 05\", \"Mar 06\", \"Mar 07\", \"Mar 08\", \"Mar 09\", \"Mar 10\", \"Mar 11\", \"Mar 12\", \"Mar 13\", \"Mar 14\", \"Mar 15\", \"Mar 16\", \"Mar 17\", \"Mar 18\", \"Mar 19\", \"Mar 20\", \"Mar 21\", \"Mar 22\", \"Mar 23\", \"Mar 24\", \"Mar 25\", \"Mar 26\", \"Mar 27\", \"Mar 28\", \"Mar 29\"], \"xaxis\": \"x\", \"y\": [0, 3, 2, 5, 4, 8, 5, 18, 27, 28, 41, 49, 36, 133, 97, 168, 196, 189, 250, 175, 368, 349, 345, 475, 427, 627, 793, 651, 601, 743, 683, 662, 969, 889, 756], \"yaxis\": \"y\"}, {\"customdata\": [[\"Feb 24\", \"tamponi\"], [\"Feb 25\", \"tamponi\"], [\"Feb 26\", \"tamponi\"], [\"Feb 27\", \"tamponi\"], [\"Feb 28\", \"tamponi\"], [\"Feb 29\", \"tamponi\"], [\"Mar 01\", \"tamponi\"], [\"Mar 02\", \"tamponi\"], [\"Mar 03\", \"tamponi\"], [\"Mar 04\", \"tamponi\"], [\"Mar 05\", \"tamponi\"], [\"Mar 06\", \"tamponi\"], [\"Mar 07\", \"tamponi\"], [\"Mar 08\", \"tamponi\"], [\"Mar 09\", \"tamponi\"], [\"Mar 10\", \"tamponi\"], [\"Mar 11\", \"tamponi\"], [\"Mar 12\", \"tamponi\"], [\"Mar 13\", \"tamponi\"], [\"Mar 14\", \"tamponi\"], [\"Mar 15\", \"tamponi\"], [\"Mar 16\", \"tamponi\"], [\"Mar 17\", \"tamponi\"], [\"Mar 18\", \"tamponi\"], [\"Mar 19\", \"tamponi\"], [\"Mar 20\", \"tamponi\"], [\"Mar 21\", \"tamponi\"], [\"Mar 22\", \"tamponi\"], [\"Mar 23\", \"tamponi\"], [\"Mar 24\", \"tamponi\"], [\"Mar 25\", \"tamponi\"], [\"Mar 26\", \"tamponi\"], [\"Mar 27\", \"tamponi\"], [\"Mar 28\", \"tamponi\"], [\"Mar 29\", \"tamponi\"]], \"hoverlabel\": {\"namelength\": 0}, \"hovertemplate\": \"variable=%{customdata[1]}<br>data=%{customdata[0]}<br>value=%{y}\", \"legendgroup\": \"tamponi\", \"line\": {\"color\": \"#FF6692\", \"dash\": \"solid\"}, \"mode\": \"lines\", \"name\": \"tamponi\", \"showlegend\": true, \"type\": \"scatter\", \"x\": [\"Feb 24\", \"Feb 25\", \"Feb 26\", \"Feb 27\", \"Feb 28\", \"Feb 29\", \"Mar 01\", \"Mar 02\", \"Mar 03\", \"Mar 04\", \"Mar 05\", \"Mar 06\", \"Mar 07\", \"Mar 08\", \"Mar 09\", \"Mar 10\", \"Mar 11\", \"Mar 12\", \"Mar 13\", \"Mar 14\", \"Mar 15\", \"Mar 16\", \"Mar 17\", \"Mar 18\", \"Mar 19\", \"Mar 20\", \"Mar 21\", \"Mar 22\", \"Mar 23\", \"Mar 24\", \"Mar 25\", \"Mar 26\", \"Mar 27\", \"Mar 28\", \"Mar 29\"], \"xaxis\": \"x\", \"y\": [4324, 8623, 9587, 12014, 15695, 18661, 21127, 23345, 25856, 29837, 32362, 36359, 42062, 49937, 53826, 60761, 73154, 86011, 97488, 109170, 124899, 137962, 148657, 165541, 182777, 206886, 233222, 258402, 275468, 296964, 324445, 361060, 394079, 429526, 454030], \"yaxis\": \"y\"}],\n",
       "                        {\"font\": {\"family\": \"Rockwell\"}, \"height\": 800, \"legend\": {\"orientation\": \"h\", \"title\": {}, \"tracegroupgap\": 0, \"x\": 0.5, \"xanchor\": \"center\", \"y\": 1, \"yanchor\": \"bottom\"}, \"template\": {\"data\": {\"bar\": [{\"error_x\": {\"color\": \"#2a3f5f\"}, \"error_y\": {\"color\": \"#2a3f5f\"}, \"marker\": {\"line\": {\"color\": \"#E5ECF6\", \"width\": 0.5}}, \"type\": \"bar\"}], \"barpolar\": [{\"marker\": {\"line\": {\"color\": \"#E5ECF6\", \"width\": 0.5}}, \"type\": \"barpolar\"}], \"carpet\": [{\"aaxis\": {\"endlinecolor\": \"#2a3f5f\", \"gridcolor\": \"white\", \"linecolor\": \"white\", \"minorgridcolor\": \"white\", \"startlinecolor\": \"#2a3f5f\"}, \"baxis\": {\"endlinecolor\": \"#2a3f5f\", \"gridcolor\": \"white\", \"linecolor\": \"white\", \"minorgridcolor\": \"white\", \"startlinecolor\": \"#2a3f5f\"}, \"type\": \"carpet\"}], \"choropleth\": [{\"colorbar\": {\"outlinewidth\": 0, \"ticks\": \"\"}, \"type\": \"choropleth\"}], \"contour\": [{\"colorbar\": {\"outlinewidth\": 0, \"ticks\": \"\"}, \"colorscale\": [[0.0, \"#0d0887\"], [0.1111111111111111, \"#46039f\"], [0.2222222222222222, \"#7201a8\"], [0.3333333333333333, \"#9c179e\"], [0.4444444444444444, \"#bd3786\"], [0.5555555555555556, \"#d8576b\"], [0.6666666666666666, \"#ed7953\"], [0.7777777777777778, \"#fb9f3a\"], [0.8888888888888888, \"#fdca26\"], [1.0, \"#f0f921\"]], \"type\": \"contour\"}], \"contourcarpet\": [{\"colorbar\": {\"outlinewidth\": 0, \"ticks\": \"\"}, \"type\": \"contourcarpet\"}], \"heatmap\": [{\"colorbar\": {\"outlinewidth\": 0, \"ticks\": \"\"}, \"colorscale\": [[0.0, \"#0d0887\"], [0.1111111111111111, \"#46039f\"], [0.2222222222222222, \"#7201a8\"], [0.3333333333333333, \"#9c179e\"], [0.4444444444444444, \"#bd3786\"], [0.5555555555555556, \"#d8576b\"], [0.6666666666666666, \"#ed7953\"], [0.7777777777777778, \"#fb9f3a\"], [0.8888888888888888, \"#fdca26\"], [1.0, \"#f0f921\"]], \"type\": \"heatmap\"}], \"heatmapgl\": [{\"colorbar\": {\"outlinewidth\": 0, \"ticks\": \"\"}, \"colorscale\": [[0.0, \"#0d0887\"], [0.1111111111111111, \"#46039f\"], [0.2222222222222222, \"#7201a8\"], [0.3333333333333333, \"#9c179e\"], [0.4444444444444444, \"#bd3786\"], [0.5555555555555556, \"#d8576b\"], [0.6666666666666666, \"#ed7953\"], [0.7777777777777778, \"#fb9f3a\"], [0.8888888888888888, \"#fdca26\"], [1.0, \"#f0f921\"]], \"type\": \"heatmapgl\"}], \"histogram\": [{\"marker\": {\"colorbar\": {\"outlinewidth\": 0, \"ticks\": \"\"}}, \"type\": \"histogram\"}], \"histogram2d\": [{\"colorbar\": {\"outlinewidth\": 0, \"ticks\": \"\"}, \"colorscale\": [[0.0, \"#0d0887\"], [0.1111111111111111, \"#46039f\"], [0.2222222222222222, \"#7201a8\"], [0.3333333333333333, \"#9c179e\"], [0.4444444444444444, \"#bd3786\"], [0.5555555555555556, \"#d8576b\"], [0.6666666666666666, \"#ed7953\"], [0.7777777777777778, \"#fb9f3a\"], [0.8888888888888888, \"#fdca26\"], [1.0, \"#f0f921\"]], \"type\": \"histogram2d\"}], \"histogram2dcontour\": [{\"colorbar\": {\"outlinewidth\": 0, \"ticks\": \"\"}, \"colorscale\": [[0.0, \"#0d0887\"], [0.1111111111111111, \"#46039f\"], [0.2222222222222222, \"#7201a8\"], [0.3333333333333333, \"#9c179e\"], [0.4444444444444444, \"#bd3786\"], [0.5555555555555556, \"#d8576b\"], [0.6666666666666666, \"#ed7953\"], [0.7777777777777778, \"#fb9f3a\"], [0.8888888888888888, \"#fdca26\"], [1.0, \"#f0f921\"]], \"type\": \"histogram2dcontour\"}], \"mesh3d\": [{\"colorbar\": {\"outlinewidth\": 0, \"ticks\": \"\"}, \"type\": \"mesh3d\"}], \"parcoords\": [{\"line\": {\"colorbar\": {\"outlinewidth\": 0, \"ticks\": \"\"}}, \"type\": \"parcoords\"}], \"pie\": [{\"automargin\": true, \"type\": \"pie\"}], \"scatter\": [{\"marker\": {\"colorbar\": {\"outlinewidth\": 0, \"ticks\": \"\"}}, \"type\": \"scatter\"}], \"scatter3d\": [{\"line\": {\"colorbar\": {\"outlinewidth\": 0, \"ticks\": \"\"}}, \"marker\": {\"colorbar\": {\"outlinewidth\": 0, \"ticks\": \"\"}}, \"type\": \"scatter3d\"}], \"scattercarpet\": [{\"marker\": {\"colorbar\": {\"outlinewidth\": 0, \"ticks\": \"\"}}, \"type\": \"scattercarpet\"}], \"scattergeo\": [{\"marker\": {\"colorbar\": {\"outlinewidth\": 0, \"ticks\": \"\"}}, \"type\": \"scattergeo\"}], \"scattergl\": [{\"marker\": {\"colorbar\": {\"outlinewidth\": 0, \"ticks\": \"\"}}, \"type\": \"scattergl\"}], \"scattermapbox\": [{\"marker\": {\"colorbar\": {\"outlinewidth\": 0, \"ticks\": \"\"}}, \"type\": \"scattermapbox\"}], \"scatterpolar\": [{\"marker\": {\"colorbar\": {\"outlinewidth\": 0, \"ticks\": \"\"}}, \"type\": \"scatterpolar\"}], \"scatterpolargl\": [{\"marker\": {\"colorbar\": {\"outlinewidth\": 0, \"ticks\": \"\"}}, \"type\": \"scatterpolargl\"}], \"scatterternary\": [{\"marker\": {\"colorbar\": {\"outlinewidth\": 0, \"ticks\": \"\"}}, \"type\": \"scatterternary\"}], \"surface\": [{\"colorbar\": {\"outlinewidth\": 0, \"ticks\": \"\"}, \"colorscale\": [[0.0, \"#0d0887\"], [0.1111111111111111, \"#46039f\"], [0.2222222222222222, \"#7201a8\"], [0.3333333333333333, \"#9c179e\"], [0.4444444444444444, \"#bd3786\"], [0.5555555555555556, \"#d8576b\"], [0.6666666666666666, \"#ed7953\"], [0.7777777777777778, \"#fb9f3a\"], [0.8888888888888888, \"#fdca26\"], [1.0, \"#f0f921\"]], \"type\": \"surface\"}], \"table\": [{\"cells\": {\"fill\": {\"color\": \"#EBF0F8\"}, \"line\": {\"color\": \"white\"}}, \"header\": {\"fill\": {\"color\": \"#C8D4E3\"}, \"line\": {\"color\": \"white\"}}, \"type\": \"table\"}]}, \"layout\": {\"annotationdefaults\": {\"arrowcolor\": \"#2a3f5f\", \"arrowhead\": 0, \"arrowwidth\": 1}, \"coloraxis\": {\"colorbar\": {\"outlinewidth\": 0, \"ticks\": \"\"}}, \"colorscale\": {\"diverging\": [[0, \"#8e0152\"], [0.1, \"#c51b7d\"], [0.2, \"#de77ae\"], [0.3, \"#f1b6da\"], [0.4, \"#fde0ef\"], [0.5, \"#f7f7f7\"], [0.6, \"#e6f5d0\"], [0.7, \"#b8e186\"], [0.8, \"#7fbc41\"], [0.9, \"#4d9221\"], [1, \"#276419\"]], \"sequential\": [[0.0, \"#0d0887\"], [0.1111111111111111, \"#46039f\"], [0.2222222222222222, \"#7201a8\"], [0.3333333333333333, \"#9c179e\"], [0.4444444444444444, \"#bd3786\"], [0.5555555555555556, \"#d8576b\"], [0.6666666666666666, \"#ed7953\"], [0.7777777777777778, \"#fb9f3a\"], [0.8888888888888888, \"#fdca26\"], [1.0, \"#f0f921\"]], \"sequentialminus\": [[0.0, \"#0d0887\"], [0.1111111111111111, \"#46039f\"], [0.2222222222222222, \"#7201a8\"], [0.3333333333333333, \"#9c179e\"], [0.4444444444444444, \"#bd3786\"], [0.5555555555555556, \"#d8576b\"], [0.6666666666666666, \"#ed7953\"], [0.7777777777777778, \"#fb9f3a\"], [0.8888888888888888, \"#fdca26\"], [1.0, \"#f0f921\"]]}, \"colorway\": [\"#636efa\", \"#EF553B\", \"#00cc96\", \"#ab63fa\", \"#FFA15A\", \"#19d3f3\", \"#FF6692\", \"#B6E880\", \"#FF97FF\", \"#FECB52\"], \"font\": {\"color\": \"#2a3f5f\"}, \"geo\": {\"bgcolor\": \"white\", \"lakecolor\": \"white\", \"landcolor\": \"#E5ECF6\", \"showlakes\": true, \"showland\": true, \"subunitcolor\": \"white\"}, \"hoverlabel\": {\"align\": \"left\"}, \"hovermode\": \"closest\", \"mapbox\": {\"style\": \"light\"}, \"paper_bgcolor\": \"white\", \"plot_bgcolor\": \"#E5ECF6\", \"polar\": {\"angularaxis\": {\"gridcolor\": \"white\", \"linecolor\": \"white\", \"ticks\": \"\"}, \"bgcolor\": \"#E5ECF6\", \"radialaxis\": {\"gridcolor\": \"white\", \"linecolor\": \"white\", \"ticks\": \"\"}}, \"scene\": {\"xaxis\": {\"backgroundcolor\": \"#E5ECF6\", \"gridcolor\": \"white\", \"gridwidth\": 2, \"linecolor\": \"white\", \"showbackground\": true, \"ticks\": \"\", \"zerolinecolor\": \"white\"}, \"yaxis\": {\"backgroundcolor\": \"#E5ECF6\", \"gridcolor\": \"white\", \"gridwidth\": 2, \"linecolor\": \"white\", \"showbackground\": true, \"ticks\": \"\", \"zerolinecolor\": \"white\"}, \"zaxis\": {\"backgroundcolor\": \"#E5ECF6\", \"gridcolor\": \"white\", \"gridwidth\": 2, \"linecolor\": \"white\", \"showbackground\": true, \"ticks\": \"\", \"zerolinecolor\": \"white\"}}, \"shapedefaults\": {\"line\": {\"color\": \"#2a3f5f\"}}, \"ternary\": {\"aaxis\": {\"gridcolor\": \"white\", \"linecolor\": \"white\", \"ticks\": \"\"}, \"baxis\": {\"gridcolor\": \"white\", \"linecolor\": \"white\", \"ticks\": \"\"}, \"bgcolor\": \"#E5ECF6\", \"caxis\": {\"gridcolor\": \"white\", \"linecolor\": \"white\", \"ticks\": \"\"}}, \"title\": {\"x\": 0.05}, \"xaxis\": {\"automargin\": true, \"gridcolor\": \"white\", \"linecolor\": \"white\", \"ticks\": \"\", \"title\": {\"standoff\": 15}, \"zerolinecolor\": \"white\", \"zerolinewidth\": 2}, \"yaxis\": {\"automargin\": true, \"gridcolor\": \"white\", \"linecolor\": \"white\", \"ticks\": \"\", \"title\": {\"standoff\": 15}, \"zerolinecolor\": \"white\", \"zerolinewidth\": 2}}}, \"title\": {\"font\": {\"size\": 30}, \"text\": \"Italia Feb 24-Mar 29\", \"x\": 0.5, \"xanchor\": \"center\"}, \"width\": 700, \"xaxis\": {\"anchor\": \"y\", \"domain\": [0.0, 1.0], \"tickangle\": 50, \"title\": {\"text\": \"\"}}, \"yaxis\": {\"anchor\": \"x\", \"domain\": [0.0, 1.0], \"title\": {\"text\": \"numero di casi\"}, \"type\": \"log\"}},\n",
       "                        {\"responsive\": true}\n",
       "                    ).then(function(){\n",
       "                            \n",
       "var gd = document.getElementById('79a833c5-8607-459c-8090-46651a9dfb03');\n",
       "var x = new MutationObserver(function (mutations, observer) {{\n",
       "        var display = window.getComputedStyle(gd).display;\n",
       "        if (!display || display === 'none') {{\n",
       "            console.log([gd, 'removed!']);\n",
       "            Plotly.purge(gd);\n",
       "            observer.disconnect();\n",
       "        }}\n",
       "}});\n",
       "\n",
       "// Listen for the removal of the full notebook cells\n",
       "var notebookContainer = gd.closest('#notebook-container');\n",
       "if (notebookContainer) {{\n",
       "    x.observe(notebookContainer, {childList: true});\n",
       "}}\n",
       "\n",
       "// Listen for the clearing of the current output cell\n",
       "var outputEl = gd.closest('.output');\n",
       "if (outputEl) {{\n",
       "    x.observe(outputEl, {childList: true});\n",
       "}}\n",
       "\n",
       "                        })\n",
       "                };\n",
       "                });\n",
       "            </script>\n",
       "        </div>"
      ]
     },
     "metadata": {},
     "output_type": "display_data"
    }
   ],
   "source": [
    "#plot_COVID('Lombardia','nuovi_casi', 'nuovi_terapia_intensiva', 'nuovi_deceduti')\n",
    "\n",
    "#plot_COVID('Alto Adige','nuovi_casi_giorno', 'decessi_giorno', 'ricoveri_ICU_giorno','terapia_intensiva')\n",
    "\n",
    "#plot_COVID_all('totale_casi','nuovi_casi','terapia_intensiva','nuovi_terapia_intensiva',\n",
    "#               'deceduti','nuovi_deceduti','tamponi')\n",
    "\n",
    "plot_COVID('Italia','totale_casi','nuovi_casi','terapia_intensiva','nuovi_terapia_intensiva',\n",
    "               'deceduti','nuovi_deceduti','tamponi')\n",
    "\n",
    "#plot_COVID('Italia','nuovi_casi','nuovi_terapia_intensiva',\n",
    "#           'nuovi_ricoverati_con_sintomi','nuovi_tamponi')\n",
    "\n",
    "#plot_COVID('Valle d\\'Aosta','totale_casi','nuovi_casi','terapia_intensiva','nuovi_terapia_intensiva',\n",
    "#               'deceduti','nuovi_deceduti')"
   ]
  },
  {
   "cell_type": "code",
   "execution_count": null,
   "metadata": {},
   "outputs": [],
   "source": []
  }
 ],
 "metadata": {
  "kernelspec": {
   "display_name": "Python 3",
   "language": "python",
   "name": "python3"
  },
  "language_info": {
   "codemirror_mode": {
    "name": "ipython",
    "version": 3
   },
   "file_extension": ".py",
   "mimetype": "text/x-python",
   "name": "python",
   "nbconvert_exporter": "python",
   "pygments_lexer": "ipython3",
   "version": "3.7.3"
  }
 },
 "nbformat": 4,
 "nbformat_minor": 4
}
